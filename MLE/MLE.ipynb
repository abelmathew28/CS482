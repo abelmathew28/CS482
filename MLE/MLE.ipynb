{
  "nbformat": 4,
  "nbformat_minor": 0,
  "metadata": {
    "colab": {
      "name": "MLE-ABEL.ipynb",
      "provenance": [],
      "include_colab_link": true
    },
    "kernelspec": {
      "name": "python3",
      "display_name": "Python 3"
    },
    "language_info": {
      "name": "python"
    }
  },
  "cells": [
    {
      "cell_type": "markdown",
      "metadata": {
        "id": "view-in-github",
        "colab_type": "text"
      },
      "source": [
        "<a href=\"https://colab.research.google.com/github/abelmathew28/CS482/blob/main/MLE/MLE.ipynb\" target=\"_parent\"><img src=\"https://colab.research.google.com/assets/colab-badge.svg\" alt=\"Open In Colab\"/></a>"
      ]
    },
    {
      "cell_type": "code",
      "metadata": {
        "colab": {
          "base_uri": "https://localhost:8080/",
          "height": 282
        },
        "id": "p1ZqO0MzaqU0",
        "outputId": "d60d03f5-f93d-4901-9fc4-2d3ca2fe8291"
      },
      "source": [
        "import numpy as np\n",
        "from scipy.stats import norm\n",
        "import matplotlib.pyplot as plt\n",
        "fig, ax = plt.subplots(1, 1)\n",
        "x = np.linspace(norm.ppf(0.01),\n",
        "                norm.ppf(0.99), 100)\n",
        "ax.plot(x, norm.pdf(x),\n",
        "       'r-', lw=5, alpha=0.6, label='norm pdf')"
      ],
      "execution_count": 25,
      "outputs": [
        {
          "output_type": "execute_result",
          "data": {
            "text/plain": [
              "[<matplotlib.lines.Line2D at 0x7f186e809690>]"
            ]
          },
          "metadata": {
            "tags": []
          },
          "execution_count": 25
        },
        {
          "output_type": "display_data",
          "data": {
            "image/png": "[encoded data removed]",
            "text/plain": [
              "<Figure size 432x288 with 1 Axes>"
            ]
          },
          "metadata": {
            "tags": [],
            "needs_background": "light"
          }
        }
      ]
    },
    {
      "cell_type": "markdown",
      "metadata": {
        "id": "WRs3Rq0da8tS"
      },
      "source": [
        "We can retrieve the probability of events happening, e.g. x=3.0"
      ]
    },
    {
      "cell_type": "code",
      "metadata": {
        "id": "SAYQY39Ya-zo"
      },
      "source": [
        "p_3 = norm.pdf(3.0, 5.0, 3.0)"
      ],
      "execution_count": 26,
      "outputs": []
    },
    {
      "cell_type": "markdown",
      "metadata": {
        "id": "9rZyYoQTbDFY"
      },
      "source": [
        "We can also easily calculate the joint probability of iid (indepenent and identically distributed) events"
      ]
    },
    {
      "cell_type": "code",
      "metadata": {
        "id": "pPkcoHdkoaBA"
      },
      "source": [
        "p_7 = norm.pdf(7.0, 7.0, 3.0)\n",
        "\n",
        "joint = p_3*p_7"
      ],
      "execution_count": 27,
      "outputs": []
    },
    {
      "cell_type": "code",
      "metadata": {
        "colab": {
          "base_uri": "https://localhost:8080/"
        },
        "id": "djwsfGVtolfj",
        "outputId": "7ff4e309-3740-4830-f687-f1b0d16babf7"
      },
      "source": [
        "p_3, p_7, joint"
      ],
      "execution_count": 28,
      "outputs": [
        {
          "output_type": "execute_result",
          "data": {
            "text/plain": [
              "(0.10648266850745075, 0.1329807601338109, 0.014160146199197409)"
            ]
          },
          "metadata": {
            "tags": []
          },
          "execution_count": 28
        }
      ]
    },
    {
      "cell_type": "markdown",
      "metadata": {
        "id": "tN_Jk4VAorDh"
      },
      "source": [
        "Assume now that someone is giving us an array of values and ask us to estimate a pmodel that is a 'good fit' to the gievn data. How we can go about solving this problem with Maximum Likelihood Estimation (MLE)? Notice that as addressed in [3], probability and likelihood have a reverse relationship. Probability attaches to possible results; likelihood attaches to hypotheses. The likelihood function gives the relative likelihoods of different values for the parameter(s) of the distribution from which the data are assumed to have been drawn, given those data.\n",
        "\n",
        "Lets plot a couple of pmodel hypotheses - the data are shown below in the same plot. Both hypotheses are plausible."
      ]
    },
    {
      "cell_type": "code",
      "metadata": {
        "colab": {
          "base_uri": "https://localhost:8080/",
          "height": 282
        },
        "id": "Vxl2cygIouWm",
        "outputId": "cee8fae7-b988-46af-d16f-dce59f256969"
      },
      "source": [
        "data = [4, 5, 7, 8, 8, 9, 10, 5, 2, 3, 5, 4, 8, 9]\n",
        "\n",
        "fig, ax = plt.subplots(1, 1)\n",
        "x = np.linspace(0, 20, 100)\n",
        "ax.plot(x, norm.pdf(x,5,3),\n",
        "       'r-', lw=5, alpha=0.6, label='norm pdf')\n",
        "ax.plot(x, norm.pdf(x,7,3),\n",
        "       'b-', lw=5, alpha=0.6, label='norm pdf')\n",
        "ax.plot(data, np.zeros(len(data)).tolist(),'o')"
      ],
      "execution_count": 29,
      "outputs": [
        {
          "output_type": "execute_result",
          "data": {
            "text/plain": [
              "[<matplotlib.lines.Line2D at 0x7f186e77fd10>]"
            ]
          },
          "metadata": {
            "tags": []
          },
          "execution_count": 29
        },
        {
          "output_type": "display_data",
          "data": {
            "image/png": "[encoded data removed]",
            "text/plain": [
              "<Figure size 432x288 with 1 Axes>"
            ]
          },
          "metadata": {
            "tags": [],
            "needs_background": "light"
          }
        }
      ]
    },
    {
      "cell_type": "markdown",
      "metadata": {
        "id": "Y8yfWhQfo19H"
      },
      "source": [
        "As detailed in Ref [2], its important to safeguard against underflow that may well result from multiplying many numbers (for large datasets) that are less than 1.0 (probabilities). So we do the calculations in the log domain using the identity\n",
        "\n",
        "log(a×b)=log(a)+log(b) Lets look at a function that calculates the log-likelihood for the two hypotheses above given the data denoted by x."
      ]
    },
    {
      "cell_type": "code",
      "metadata": {
        "id": "EmWmYw9go3ks"
      },
      "source": [
        "def compare_data_to_dist(x, mu_1=5, mu_2=7, sd_1=3, sd_2=3):\n",
        "    ll_1 = 0\n",
        "    ll_2 = 0\n",
        "    for i in x:\n",
        "        ll_1 += np.log(norm.pdf(i, mu_1, sd_1))\n",
        "        ll_2 += np.log(norm.pdf(i, mu_2, sd_2))\n",
        "    \n",
        "    print(\"The LL of of x for mu = %d and sd = %d is: %.4f\" % (mu_1, sd_1, ll_1))\n",
        "    print(\"The LL of of x for mu = %d and sd = %d is: %.4f\" % (mu_2, sd_2, ll_2))"
      ],
      "execution_count": 30,
      "outputs": []
    },
    {
      "cell_type": "markdown",
      "metadata": {
        "id": "-pnw8x-tpaN8"
      },
      "source": [
        "We can readily compate the two hypotheses according to the maximum likelihood criterion. Note that because the log is a monotonic function, the conclusion as to which hypothesis makes the data more likely is the same in the natural or the log domain."
      ]
    },
    {
      "cell_type": "code",
      "metadata": {
        "colab": {
          "base_uri": "https://localhost:8080/"
        },
        "id": "cYGPshMPpe4j",
        "outputId": "4938e8e6-54fa-4b48-a9f0-00a149c69a48"
      },
      "source": [
        "ll_comparison = compare_data_to_dist(data)"
      ],
      "execution_count": 31,
      "outputs": [
        {
          "output_type": "stream",
          "text": [
            "The LL of of x for mu = 5 and sd = 3 is: -33.9679\n",
            "The LL of of x for mu = 7 and sd = 3 is: -33.3013\n"
          ],
          "name": "stdout"
        }
      ]
    },
    {
      "cell_type": "markdown",
      "metadata": {
        "id": "3zo3aurGpjQn"
      },
      "source": [
        "It seems that the second hypothesis\n",
        "\n",
        "pmodel(x|w)=N(x|[μ2,σ22]) is preferred compared to the first.\n",
        "\n",
        "We can now start searching the hypothesis space (parameter space) for the best parameter set w."
      ]
    },
    {
      "cell_type": "code",
      "metadata": {
        "colab": {
          "base_uri": "https://localhost:8080/",
          "height": 598
        },
        "id": "MIs9_3-tpklp",
        "outputId": "3a6a0799-53fd-4fbe-b9b3-199e23ba2ec0"
      },
      "source": [
        "# Plot the Negative Log Likelihood Functions for different values of mu \n",
        "# and sigma\n",
        "def plot_ll(x):\n",
        "    plt.figure(figsize=(5,8))\n",
        "    plt.title(\"Neg Log Likelihood Functions\")\n",
        "    plt.xlabel(\"Mean Estimate\")\n",
        "    plt.ylabel(\"Neg Log Likelihood\")\n",
        "    plt.ylim(30, 60)\n",
        "    plt.xlim(0, 12)\n",
        "    mu_set = np.linspace(0, 16, 1000)\n",
        "    sd_set = [.5, 1.5, 2.5, 3.5, 4.5]\n",
        "    max_val = max_val_location = None\n",
        "    for i in sd_set:\n",
        "        ll_array = []\n",
        "        \n",
        "        for j in mu_set:\n",
        "            temp_mm = 0\n",
        "            \n",
        "            for k in x:\n",
        "                temp_mm += np.log(norm.pdf(k, j, i)) # The LL function\n",
        "            ll_array.append(-temp_mm) # negative LL\n",
        "        \n",
        "            if (max_val is None):\n",
        "                max_val = min(ll_array)\n",
        "            elif max(ll_array) > max_val:\n",
        "                max_val = min(ll_array)\n",
        "                max_val_location = j\n",
        "        \n",
        "        # Plot the results\n",
        "        plt.plot(mu_set, ll_array, label=\"sd: %.1f\" % i)\n",
        "        \n",
        "        print(\"The max LL for sd %.2f is %.2f\" % (i, min(ll_array)))    \n",
        "    plt.axvline(x=max_val_location, color='black', ls='-.')\n",
        "    plt.legend(loc='lower left')\n",
        "plot_ll(data);"
      ],
      "execution_count": 32,
      "outputs": [
        {
          "output_type": "stream",
          "text": [
            "The max LL for sd 0.50 is 167.88\n",
            "The max LL for sd 1.50 is 36.84\n",
            "The max LL for sd 2.50 is 32.28\n",
            "The max LL for sd 3.50 is 33.77\n",
            "The max LL for sd 4.50 is 35.96\n"
          ],
          "name": "stdout"
        },
        {
          "output_type": "display_data",
          "data": {
            "image/png": "[encoded data removed]",
            "text/plain": [
              "<Figure size 360x576 with 1 Axes>"
            ]
          },
          "metadata": {
            "tags": [],
            "needs_background": "light"
          }
        }
      ]
    },
    {
      "cell_type": "markdown",
      "metadata": {
        "id": "moj4xhDLpvGQ"
      },
      "source": [
        "But there is a better method than exhaustively searching in the parameter space. We developed a method that incrementally minimizes a loss function that is ultimately linked to the concept of entropy - the cross entropy (CE) that for the supervided learning problem as shown in the notes has a lot to do with minimizing the KL divergence - a type of probabilistic 'distance' between p̂ data and pmodel.\n",
        "\n",
        "This method is the Stochastic Gradient Descent. Can ypu estimate the hypothesis for the data array above?"
      ]
    },
    {
      "cell_type": "markdown",
      "metadata": {
        "id": "Rx3TO8IOpy_h"
      },
      "source": [
        "Problem 1 - MLE\n",
        "High level flow of the solution is as below\n",
        "\n",
        "I will build a stochastic gradient descent method for MLE\n",
        "I will then verify the SGD results against the theoretical solution"
      ]
    },
    {
      "cell_type": "code",
      "metadata": {
        "id": "0ztE6oRkpz-A"
      },
      "source": [
        "# Importing few libraries which will come handy when later used\n",
        "import warnings\n",
        "warnings.simplefilter(action='ignore', category=FutureWarning)\n",
        "import pandas as pd\n",
        "import time\n",
        "import seaborn as sns\n",
        "import statsmodels.api as sm\n",
        "from scipy import stats"
      ],
      "execution_count": 33,
      "outputs": []
    },
    {
      "cell_type": "markdown",
      "metadata": {
        "id": "Yjd85pDrqesu"
      },
      "source": [
        "Problem 1 - Approach taken\n",
        "Task as I understood here is to find the best mean and standard deviation that will give maximum likelihood that the data samples provided are from the normal distribution of this best mean and Standard Deviation.\n",
        "\n",
        "The steps that I would follow for finding the optimum mean and standard deviation are as follows.\n",
        "Get the function that provides the output we want to optimize, i.e. get the objective (or cost function) defined which in our case is negative log of probability density function. (refer to equation 3 in the attached document)\n",
        "\n",
        "The job is to minimize this cost function (Equation 3)\n",
        "Get the first partial derivatives against the parameters to calculate the gradients.\n",
        "\n",
        "The unknown random variables here are mean and standard deviation\n",
        "We get Equation 4 for partial derivative against mean and Equation 6 for partial derivative against Standard Deviation so that we can compute the gradients.\n",
        "\n",
        "The flow of the code is\n",
        "\n",
        "to start with the random values for mean and standard deviation or weights\n",
        "to calculate the negative log likelihood for above random weights\n",
        "to calculate the gradients against both weights\n",
        "adjust the weights using the above gradients (note: during this adjustment we will be applying the learning rate, denoted by parameter learning_rate)\n",
        "once we get new weights we can recheck the negative log likelihood\n",
        "Our original objective was to minimize the negative log likelihood, so we will keep on checking this imrpovement in loop\n",
        "the loop will run until the improvement is no more significant; here significant is defined by the variable tolerance\n",
        "what if this loop runs for infinite times, thus we need to have another parameter n_iter, this is to keep capping on the number of iterations.\n",
        "By applying the above we will be able to implement gradient descent, but the task was to built stochastic gradient descent.\n",
        "Lastly we will not adjust the weights for all the datapoints in one go, rather to make it stochastic gradient descent we will define a variable batch_size which will control the number of observations to process a change in weights."
      ]
    },
    {
      "cell_type": "markdown",
      "metadata": {
        "id": "KIRm2ubPq36l"
      },
      "source": [
        "Function neg_log_likelihood\n",
        "This function is to take a data list, mean, standard deviation and calculates the negative log likelihood\n",
        "Negative log likelihood here is proxy measure of how likely it is that this data list is a samples collected from a\n",
        "normal distrubition having provided mean and standard deviation."
      ]
    },
    {
      "cell_type": "code",
      "metadata": {
        "id": "mZ5rZr1qq5LJ"
      },
      "source": [
        "def neg_log_likelihood(data, mean, std):\n",
        "    # Note: I could have used the original formula for probability density function (equation 3) \n",
        "    # but as you had already used the norm.pdf in above codes so I am reusing the same.\n",
        "    # Thus assume this to be implementation of equation 3\n",
        "    \n",
        "    return -sum([np.log(norm.pdf(x, mean, std)) for x in data])"
      ],
      "execution_count": 34,
      "outputs": []
    },
    {
      "cell_type": "markdown",
      "metadata": {
        "id": "kQjVXuunq_Zb"
      },
      "source": [
        "Function gradient_mean\n",
        "This is the implementation based on equation 4"
      ]
    },
    {
      "cell_type": "code",
      "metadata": {
        "id": "3PCHvOkorAxc"
      },
      "source": [
        "def gradient_mean(data, mean, std):\n",
        "    # This function returns first partial derivative for mean i.e. gradient with respect to mean\n",
        "    return -(sum([x - mean for x in data])/np.square(std))"
      ],
      "execution_count": 35,
      "outputs": []
    },
    {
      "cell_type": "markdown",
      "metadata": {
        "id": "LfkTgE1_rF4k"
      },
      "source": [
        "Function gradient_std\n",
        "This is the implementation based on equation 6"
      ]
    },
    {
      "cell_type": "code",
      "metadata": {
        "id": "4krDQmp7rI1j"
      },
      "source": [
        "def gradient_std(data, mean, std):\n",
        "    # This function returns partial first derivative for standard deviation i.e. gradient with respect standard deviation\n",
        "    return (len(data)/std - sum(np.square([x - mean for x in data]))/(std**3))"
      ],
      "execution_count": 36,
      "outputs": []
    },
    {
      "cell_type": "markdown",
      "metadata": {
        "id": "tSJvZ5jsrL7y"
      },
      "source": [
        "Function update_weights\n",
        "This function is to adjust or say update the weights (mean and standard deviation) based on the gradients and learning rate\n",
        "Thus function will return adjust mean and standard deviation"
      ]
    },
    {
      "cell_type": "code",
      "metadata": {
        "id": "7_vGsv3hrM3u"
      },
      "source": [
        "def update_weights(data, mean, std, learning_rate):\n",
        "    \n",
        "    # new mean will be given by adjusting the previous mean by learning rate * gradient of mean\n",
        "    new_mean = mean - learning_rate * gradient_mean(data, mean, std)\n",
        "    \n",
        "    # new mean will be given by adjusting the previous mean by learning rate * gradient of standard deviation\n",
        "    new_std = std - learning_rate * gradient_std(data, mean, std)\n",
        "    \n",
        "    return new_mean, new_std"
      ],
      "execution_count": 37,
      "outputs": []
    },
    {
      "cell_type": "markdown",
      "metadata": {
        "id": "qIkvgixQrS_S"
      },
      "source": [
        "Function stocastic_gradient_descent\n",
        "This function is to return the expected mean and expected standard deviation for the provided random numbers"
      ]
    },
    {
      "cell_type": "code",
      "metadata": {
        "id": "_h8xYppurUFv"
      },
      "source": [
        "def stocastic_gradient_descent(data, n_iter = 1000, learning_rate = .1,batch_size = 14, tolerance = .0001):\n",
        "    \n",
        "    # Capture the start time of the SGD\n",
        "    start_time = time.time()\n",
        "    \n",
        "    # Validate that there must be atleast 2 elements in the data\n",
        "    if len(data) <= 1:\n",
        "        raise ValueError('Re-Check the data list; it must have atleast 2 elements, processing ended !!!')\n",
        "        \n",
        "    # Initiazing the weights (i.e. mean and standard deviation)\n",
        "    mean = std = np.random.randint(min(data),max(data)+1)\n",
        "    \n",
        "    # Capturing the initial negative log likelihood for the initialized weights\n",
        "    previous_ll = neg_log_likelihood(data, mean, std)\n",
        "    \n",
        "    # counter is used for checking if for 10 continous iterations improvement is less than tolerance then end the loop\n",
        "    counter = 0\n",
        "\n",
        "    # Main loop for stocastic gradiend descent\n",
        "    # It will run for n_iter or until there is an improvement >= tolerance\n",
        "    for i in range(n_iter):\n",
        "        \n",
        "        # This is to loop through batches for SGD\n",
        "        # Note that last batch size could be less than the expected batch size\n",
        "        for j in range(0, len(data), batch_size):\n",
        "            \n",
        "            # Extracting the batch value for adjusting the weights\n",
        "            batch = data[j:j+batch_size]\n",
        "            \n",
        "            # Based on the gradient get the adjusted new weights\n",
        "            mean, std = update_weights(batch, mean, std, learning_rate)\n",
        "        \n",
        "        # Capture the new negative log likelihood for the adjusted weights\n",
        "        ll = neg_log_likelihood(data, mean, std)\n",
        "        \n",
        "        # Capture the improvement in the negative log likelihood against the previous value\n",
        "        change_in_ll = previous_ll - ll\n",
        "        \n",
        "        # Store the current negative log likelihood for next iteration\n",
        "        previous_ll = ll\n",
        "        \n",
        "        print(f'For Epoch {i+1}, Negative Log Likelihood is {ll}')\n",
        "        \n",
        "        # Check if absolute improvement is less than tolerance\n",
        "        # This check will make use of counter to see if for 10 continous loops there is no significant improvement \n",
        "        # then end the loop\n",
        "        if (abs(change_in_ll) < tolerance): counter += 1\n",
        "        else: counter = 0\n",
        "        if counter == 10:\n",
        "            break\n",
        "    \n",
        "    # Print statements to give insight of the processing being done by this fuction\n",
        "    if i+1 < n_iter:\n",
        "        print(f'Search cannot improve more than tolerance of {tolerance} in last 10 epochs \\n')\n",
        "        print(f\"With a learning rate of {learning_rate} and {i+1} Epoch it took {str(round(time.time() - start_time, 3))} seconds for Stocastic Gradient descent to complete training \\n\")\n",
        "    else:\n",
        "        print(f'End of Epoch reached, try giving another learning rate for faster and better search \\n')\n",
        "        print(f\"With a learning rate of {learning_rate} and {i+1} Epoch it took {str(round(time.time() - start_time, 3))} seconds for Stocastic Gradient descent to train \\n\")\n",
        "    \n",
        "    # Return the required mean and standard deviation for the population from which the sample data is most likely extracted\n",
        "    return mean, std"
      ],
      "execution_count": 38,
      "outputs": []
    },
    {
      "cell_type": "code",
      "metadata": {
        "colab": {
          "base_uri": "https://localhost:8080/"
        },
        "id": "iPP3z1h8rqFt",
        "outputId": "9928f061-3125-4cab-88c6-b3d9c723aa4b"
      },
      "source": [
        "data"
      ],
      "execution_count": 39,
      "outputs": [
        {
          "output_type": "execute_result",
          "data": {
            "text/plain": [
              "[4, 5, 7, 8, 8, 9, 10, 5, 2, 3, 5, 4, 8, 9]"
            ]
          },
          "metadata": {
            "tags": []
          },
          "execution_count": 39
        }
      ]
    },
    {
      "cell_type": "markdown",
      "metadata": {
        "id": "xWAZ67oXrvXs"
      },
      "source": [
        "Excuting the function stocastic_gradient_descent for our data"
      ]
    },
    {
      "cell_type": "code",
      "metadata": {
        "colab": {
          "base_uri": "https://localhost:8080/"
        },
        "id": "PKp9mO7-rwUJ",
        "outputId": "e5672f69-834a-4469-f665-880ab43d5b82"
      },
      "source": [
        "population_mean, population_std = stocastic_gradient_descent(data, learning_rate=.1)\n",
        "print(f'Population Mean is {population_mean} and Standard Deviation is {population_std}')"
      ],
      "execution_count": 40,
      "outputs": [
        {
          "output_type": "stream",
          "text": [
            "For Epoch 1, Negative Log Likelihood is 38.03796347202018\n",
            "For Epoch 2, Negative Log Likelihood is 36.99383819298536\n",
            "For Epoch 3, Negative Log Likelihood is 36.243959589423184\n",
            "For Epoch 4, Negative Log Likelihood is 35.61635072798052\n",
            "For Epoch 5, Negative Log Likelihood is 35.05775861631074\n",
            "For Epoch 6, Negative Log Likelihood is 34.54941621219664\n",
            "For Epoch 7, Negative Log Likelihood is 34.086851613904095\n",
            "For Epoch 8, Negative Log Likelihood is 33.672642529315596\n",
            "For Epoch 9, Negative Log Likelihood is 33.31253883938937\n",
            "For Epoch 10, Negative Log Likelihood is 33.01233689858502\n",
            "For Epoch 11, Negative Log Likelihood is 32.77496873276821\n",
            "For Epoch 12, Negative Log Likelihood is 32.59836422601931\n",
            "For Epoch 13, Negative Log Likelihood is 32.475069123876814\n",
            "For Epoch 14, Negative Log Likelihood is 32.39397602941578\n",
            "For Epoch 15, Negative Log Likelihood is 32.34320785685503\n",
            "For Epoch 16, Negative Log Likelihood is 32.31253506632082\n",
            "For Epoch 17, Negative Log Likelihood is 32.294409567546985\n",
            "For Epoch 18, Negative Log Likelihood is 32.283825003671666\n",
            "For Epoch 19, Negative Log Likelihood is 32.27767706610862\n",
            "For Epoch 20, Negative Log Likelihood is 32.27411280799903\n",
            "For Epoch 21, Negative Log Likelihood is 32.27204706414398\n",
            "For Epoch 22, Negative Log Likelihood is 32.27084948910987\n",
            "For Epoch 23, Negative Log Likelihood is 32.270154938237326\n",
            "For Epoch 24, Negative Log Likelihood is 32.26975197728366\n",
            "For Epoch 25, Negative Log Likelihood is 32.269518124462266\n",
            "For Epoch 26, Negative Log Likelihood is 32.26938238451964\n",
            "For Epoch 27, Negative Log Likelihood is 32.269303583776555\n",
            "For Epoch 28, Negative Log Likelihood is 32.2692578338256\n",
            "For Epoch 29, Negative Log Likelihood is 32.26923127095212\n",
            "For Epoch 30, Negative Log Likelihood is 32.26921584774648\n",
            "For Epoch 31, Negative Log Likelihood is 32.26920689237345\n",
            "For Epoch 32, Negative Log Likelihood is 32.26920169243115\n",
            "For Epoch 33, Negative Log Likelihood is 32.269198673057105\n",
            "For Epoch 34, Negative Log Likelihood is 32.269196919832865\n",
            "For Epoch 35, Negative Log Likelihood is 32.26919590180581\n",
            "For Epoch 36, Negative Log Likelihood is 32.269195310677254\n",
            "Search cannot improve more than tolerance of 0.0001 in last 10 epochs \n",
            "\n",
            "With a learning rate of 0.1 and 36 Epoch it took 0.136 seconds for Stocastic Gradient descent to complete training \n",
            "\n",
            "Population Mean is 6.213456326813468 and Standard Deviation is 2.4254192654841895\n"
          ],
          "name": "stdout"
        }
      ]
    },
    {
      "cell_type": "markdown",
      "metadata": {
        "id": "w0bqroA3si1e"
      },
      "source": [
        "Observation\n",
        "By running the SGD we have found the mean and standard deviation which computes nimimum negative log likelihood for the data\n",
        "The random numbers in data were most likely extacted using the normal distribution of Population mean 6.214 and standard deviation 2.425"
      ]
    },
    {
      "cell_type": "markdown",
      "metadata": {
        "id": "WB0H8Mkmso7d"
      },
      "source": [
        "Verifying SGD solution with theory\n",
        "The stationary point where both partial derivatives will be zero gave us equation 5 and 7; as solution for best mean and standard deviation.\n",
        "\n",
        "We can now check using equation 5 and 7 does this matches to the SGD solution for best weights\n",
        "\n",
        "Theoritical best mean and standard deviation is derived and implemented here based on equation 5 and equation 7"
      ]
    },
    {
      "cell_type": "code",
      "metadata": {
        "colab": {
          "base_uri": "https://localhost:8080/",
          "height": 35
        },
        "id": "B3TDlUEWsuHi",
        "outputId": "ed6b2ddf-fba2-4014-eef8-87af802de169"
      },
      "source": [
        "f'Theoritical best mean is {np.mean(data)} and standard deviation is {np.std(data)}'"
      ],
      "execution_count": 41,
      "outputs": [
        {
          "output_type": "execute_result",
          "data": {
            "application/vnd.google.colaboratory.intrinsic+json": {
              "type": "string"
            },
            "text/plain": [
              "'Theoritical best mean is 6.214285714285714 and standard deviation is 2.425418120907092'"
            ]
          },
          "metadata": {
            "tags": []
          },
          "execution_count": 41
        }
      ]
    },
    {
      "cell_type": "markdown",
      "metadata": {
        "id": "9KrIUFwSs0b4"
      },
      "source": [
        "Final conclusion\n",
        "As both are matching now we can conclude by saying that the maximum likelihood estimation is given by the mean and standard deviation of the datapoints."
      ]
    },
    {
      "cell_type": "markdown",
      "metadata": {
        "id": "67Kz7Q0zs1xE"
      },
      "source": [
        "Problem 2 - Simple Linear Regression\n",
        "High level flow of the solution is as below\n",
        "\n",
        "We will perform few statistical tests on our data\n",
        "We will implement gradient descent algorithm for simple linear regression\n",
        "We will verify our gradient descent results with theoretical solution\n",
        "We will verify the residual assumptions for linear regession\n",
        "We will make use of OLS function summary to comment on the statistical datapoints."
      ]
    },
    {
      "cell_type": "code",
      "metadata": {
        "colab": {
          "base_uri": "https://localhost:8080/",
          "height": 383
        },
        "id": "br6MHNWgs5q5",
        "outputId": "9077a890-e8c8-42e2-8841-75e62c27b360"
      },
      "source": [
        "x = np.array([8, 16, 22, 33, 50, 51])\n",
        "y = np.array([5, 20, 14, 32, 42, 58])\n",
        "df = pd.DataFrame({'x':x,'y':y})\n",
        "g = sns.lmplot(x=\"x\", y=\"y\", data=df)"
      ],
      "execution_count": 42,
      "outputs": [
        {
          "output_type": "display_data",
          "data": {
            "image/png": "[encoded data removed]",
            "text/plain": [
              "<Figure size 360x360 with 1 Axes>"
            ]
          },
          "metadata": {
            "tags": [],
            "needs_background": "light"
          }
        }
      ]
    },
    {
      "cell_type": "markdown",
      "metadata": {
        "id": "Y9Pocl6WtASZ"
      },
      "source": [
        "Linear Model Plot Observation\n",
        "\n",
        "There seems to be positive high correlation between x and y"
      ]
    },
    {
      "cell_type": "markdown",
      "metadata": {
        "id": "56f9sV1ItBeP"
      },
      "source": [
        "Normality Test\n",
        "The Shapiro-Wilk test tests the null hypothesis that the data was drawn from a normal distribution.\n",
        "\n",
        "Null Hypothesis\n",
        "H0: The data is drawn from a normal distribution\n",
        "Alternative Hypothesis\n",
        "Ha: The data is not drawn from a normal distribution\n",
        "alpha = 0.05"
      ]
    },
    {
      "cell_type": "code",
      "metadata": {
        "colab": {
          "base_uri": "https://localhost:8080/"
        },
        "id": "Bp2AshadtJfG",
        "outputId": "6208cb15-f851-4db6-cfdf-a3b100dab3f3"
      },
      "source": [
        "print(stats.shapiro(x))\n",
        "print(stats.shapiro(y))"
      ],
      "execution_count": 43,
      "outputs": [
        {
          "output_type": "stream",
          "text": [
            "(0.9136742949485779, 0.4610065817832947)\n",
            "(0.9732536673545837, 0.9135345816612244)\n"
          ],
          "name": "stdout"
        }
      ]
    },
    {
      "cell_type": "markdown",
      "metadata": {
        "id": "OJ6IX5KWtNw4"
      },
      "source": [
        "Normality Test Observation\n",
        "\n",
        "For variable x and y p-value is greater than level of significance thus we will accept the null hypothesis; i.e. we can assume that both x and y are drawn from the population of normal distribution."
      ]
    },
    {
      "cell_type": "markdown",
      "metadata": {
        "id": "MS6RlCTNtSFV"
      },
      "source": [
        "Homogeniety Test\n",
        "The Levene test tests the null hypothesis that all input samples are from populations with equal variances.\n",
        "\n",
        "Null Hypothesis\n",
        "H0: All input samples are from populations with equal variances\n",
        "Alternative Hypothesis\n",
        "Ha: Atleast one input samples populations variances is different\n",
        "alpha = 0.05"
      ]
    },
    {
      "cell_type": "code",
      "metadata": {
        "colab": {
          "base_uri": "https://localhost:8080/"
        },
        "id": "PyYKyBbytYUL",
        "outputId": "c54eea0d-fc85-441c-e2cf-30d308b747e1"
      },
      "source": [
        "print(stats.levene(x,y))"
      ],
      "execution_count": 44,
      "outputs": [
        {
          "output_type": "stream",
          "text": [
            "LeveneResult(statistic=0.024910322837784018, pvalue=0.8777322335671627)\n"
          ],
          "name": "stdout"
        }
      ]
    },
    {
      "cell_type": "markdown",
      "metadata": {
        "id": "LdAlnrtbtbu_"
      },
      "source": [
        "Homogeniety Test Observation\n",
        "\n",
        "For groups of x and y p-value is greater than level of significance thus we will accept the null hypothesis; i.e. we can assume that both x and y are drawn from the population of equal variances"
      ]
    },
    {
      "cell_type": "markdown",
      "metadata": {
        "id": "cVm1b8RwtkTA"
      },
      "source": [
        ""
      ]
    },
    {
      "cell_type": "markdown",
      "metadata": {
        "id": "JaLb_DdFAgpY"
      },
      "source": [
        "## Simple Linear Regression Assumption\n",
        "\n",
        "It is assumed that y and x have a linear relationship and in order to get that relationship we will work on simple linear regression using gradient descent.\n",
        "\n"
      ]
    },
    {
      "cell_type": "markdown",
      "metadata": {
        "id": "wKa9sihCAk3f"
      },
      "source": [
        "## Approach for Gradient Descent Method\n",
        "\n",
        "1. In this method the error is represented in squared form i.e.  E =  (Yexpected – Ypred)^2\n",
        "2. Expanding Ypred,   E =  ((Yexpected – (mX + C))^2  \n",
        "3. Thus, E is a function of  m and c given Yexpected and X come from data\n",
        "4. The E function being quadratic (raised to power of 2) when plotted against m and c, will acquire a parabolic shape\n",
        "5. This guarantees an absolute minima i.e. there will be a unique combination of m and c which will deliver the least error. Let this be the best m and best c\n",
        "6. Starting from some random m and c, the Gradient Descent method will automatically discover the best m and best c using a mathematical technique called “Partial Derivatives”\n",
        "7. This method can be applied with any number of independent variables."
      ]
    },
    {
      "cell_type": "markdown",
      "metadata": {
        "id": "ATLVgcowtzVY"
      },
      "source": [
        "Function gradient\n",
        "This function will calculate the partial first derivative of the cost function for each parameter of the simple linear regression"
      ]
    },
    {
      "cell_type": "code",
      "metadata": {
        "id": "AUTEePf9t3KL"
      },
      "source": [
        "def gradient(x, y, b):\n",
        "    # First we will calculate the residual based on the current parameter values\n",
        "    residual = b[0] + b[1] * x - y\n",
        "    \n",
        "    # We are returning the partial first derivatives as explained in the eq 4 and eq 5 in the above picture.\n",
        "    return -2*(residual.sum()), -2*((residual * x).sum())"
      ],
      "execution_count": 45,
      "outputs": []
    },
    {
      "cell_type": "markdown",
      "metadata": {
        "id": "P1Y5DB37t6mB"
      },
      "source": [
        "Function gradient_descent\n",
        "This function will calculate the best parameter values using the gradient descent"
      ]
    },
    {
      "cell_type": "code",
      "metadata": {
        "id": "S7xDiQFKt7dq"
      },
      "source": [
        "def gradient_descent(x, y, start=[0.5, 0.5], learning_rate=0.001, n_iter=100000, tolerance=1e-06):\n",
        "\n",
        "    # Setting up the data type for NumPy arrays\n",
        "    dtype_ = np.dtype(\"float64\")\n",
        "\n",
        "    # Change x and y arrays as Numpy arrays and validating that length of both x and y must be same\n",
        "    x, y = np.array(x, dtype=dtype_), np.array(y, dtype=dtype_)\n",
        "    if x.shape[0] != y.shape[0]:\n",
        "        raise ValueError(\"Arrays x and y should have same length\")\n",
        "\n",
        "    # coef will contain the parameters of equation and we need to initialize the values as start\n",
        "    coef = np.array(start, dtype=dtype_)\n",
        "\n",
        "    # Validating learning rate must be positive\n",
        "    if learning_rate <= 0:\n",
        "        raise ValueError(\"'learning_rate' must be positive number\")\n",
        "\n",
        "    # Validating number of iterations must be positive\n",
        "    n_iter = int(n_iter)\n",
        "    if n_iter <= 0:\n",
        "        raise ValueError(\"'n_iter' must be positive number\")\n",
        "\n",
        "    # Validating tolerance must be positive\n",
        "    if np.any(tolerance <= 0):\n",
        "        raise ValueError(\"'tolerance' must be positive number\")\n",
        "\n",
        "    # Main Loop for performing gradient descent\n",
        "    # It will run for n_iter or until the improvement is not greater than tolerance\n",
        "    for i in range(n_iter):\n",
        "        \n",
        "        # Check how much change in parameter is needed based on gradient\n",
        "        diff = learning_rate * np.array(gradient(x, y, coef), dtype_)\n",
        "        \n",
        "        # Check if the absolute difference is small enough to break the loop\n",
        "        if np.all(np.abs(diff) <= tolerance):\n",
        "            break\n",
        "\n",
        "        # Updating the values of the coefficients\n",
        "        coef += diff\n",
        "\n",
        "    return coef"
      ],
      "execution_count": 46,
      "outputs": []
    },
    {
      "cell_type": "markdown",
      "metadata": {
        "id": "dJ0buq8_uBBI"
      },
      "source": [
        "Calling function gradient_descent for our data points x and y"
      ]
    },
    {
      "cell_type": "code",
      "metadata": {
        "colab": {
          "base_uri": "https://localhost:8080/"
        },
        "id": "Dqgm4J4cuE-Q",
        "outputId": "f7eeebbc-0852-462e-ad73-ba91dab1d83d"
      },
      "source": [
        "b0, b1 = gradient_descent(x, y, start=[1, 1], learning_rate=0.0001, n_iter=1000000, tolerance=1e-09)\n",
        "print(f'Relationship between x and y is given by the linear equation --> y = {round(b1,4)}*x + {round(b0,4)}')"
      ],
      "execution_count": 47,
      "outputs": [
        {
          "output_type": "stream",
          "text": [
            "Relationship between x and y is given by the linear equation --> y = 1.0364*x + -2.5916\n"
          ],
          "name": "stdout"
        }
      ]
    },
    {
      "cell_type": "markdown",
      "metadata": {
        "id": "IhqLozZ0uMva"
      },
      "source": [
        "Verifying gradient descent solution with theory\n",
        "Here we are calulating the best intercept and coef of x by derived formula eq 2 and eq 3 in the theory (page 2)."
      ]
    },
    {
      "cell_type": "code",
      "metadata": {
        "colab": {
          "base_uri": "https://localhost:8080/"
        },
        "id": "xxqUNEetuN3B",
        "outputId": "d77f8668-47c6-439a-f681-bf89cee58297"
      },
      "source": [
        "#storing y_ and x_ as ybar and xbar representing the means of y and x\n",
        "y_ = y.mean()\n",
        "x_ = x.mean()\n",
        "\n",
        "# This is the implementation of stationary points by evaluating patial derivatives to zero\n",
        "\n",
        "# Implementation of equation 2\n",
        "best_b1 = np.sum((y-y_)*(x-x_))/np.sum((x-x_)**2)\n",
        "\n",
        "# Implementation of equation 3\n",
        "best_b0 = y_ - best_b1 * x_\n",
        "\n",
        "print(f'Relationship between x and y is given by the linear equation --> y = {round(best_b1,4)}*x + {round(best_b0,4)}')"
      ],
      "execution_count": 48,
      "outputs": [
        {
          "output_type": "stream",
          "text": [
            "Relationship between x and y is given by the linear equation --> y = 1.0364*x + -2.5916\n"
          ],
          "name": "stdout"
        }
      ]
    },
    {
      "cell_type": "markdown",
      "metadata": {
        "id": "dyV6WuC5uUhh"
      },
      "source": [
        "Verification result\n",
        "Simple linear regression relationship of y and x is same between theory result and the gradient descent result.\n",
        "The relationship is as below -\n",
        "\n",
        "y = 1.0364 * x - 2.5916"
      ]
    }
  ]
}